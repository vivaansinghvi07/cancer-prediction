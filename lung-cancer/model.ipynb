{
 "cells": [
  {
   "attachments": {},
   "cell_type": "markdown",
   "metadata": {},
   "source": [
    "## Train the Models"
   ]
  },
  {
   "cell_type": "code",
   "execution_count": 8,
   "metadata": {},
   "outputs": [
    {
     "name": "stdout",
     "output_type": "stream",
     "text": [
      "The accuracy of the random_forest model is 94.87%.\n",
      "The accuracy of the naive_bayes model is 89.74%.\n",
      "The accuracy of the svc model is 92.31%.\n"
     ]
    }
   ],
   "source": [
    "import pandas as pd\n",
    "import numpy as np\n",
    "from sklearn.model_selection import train_test_split\n",
    "from sklearn.ensemble import RandomForestClassifier\n",
    "from sklearn.naive_bayes import MultinomialNB\n",
    "from sklearn.svm import SVC\n",
    "from sklearn.metrics import accuracy_score\n",
    "from visualize import SYMPTOMS, CAUSES\n",
    "\n",
    "# convert gender to number\n",
    "def gender_mapper(gender): return 1 if gender == \"M\" else 0\n",
    "\n",
    "# demographics which may be helpful in prediction\n",
    "DEMOGRAPHICS = [\"GENDER\", \"AGE\"]\n",
    "\n",
    "# model types to test\n",
    "MODELS = [\"random_forest\", \"naive_bayes\", \"svc\"]\n",
    "\n",
    "# reads data from the csv file\n",
    "df = pd.read_csv(\"data/lung-cancer.csv\", usecols=SYMPTOMS+CAUSES)\n",
    "\n",
    "# changes 2's to 1's and 1's to 0's - convert to binary for yes and no\n",
    "for stat in df:\n",
    "    df[stat] = df[stat] - 1\n",
    "\n",
    "# get demographic data\n",
    "demo_df = pd.read_csv(\"data/lung-cancer.csv\", usecols=DEMOGRAPHICS)\n",
    "for stat in demo_df:\n",
    "    if stat == \"GENDER\":    # set males to 1, females to 0\n",
    "        df[stat] = list(map(gender_mapper, demo_df[stat]))\n",
    "    else:\n",
    "        df[stat] = demo_df[stat]\n",
    "\n",
    "# sorts the dataframe\n",
    "final_df = pd.DataFrame({})\n",
    "for thing in SYMPTOMS+CAUSES+DEMOGRAPHICS:\n",
    "    final_df[thing] = df[thing]\n",
    "\n",
    "# gets if they have cancer or not\n",
    "results = pd.read_csv(\"data/lung-cancer.csv\", usecols=[\"LUNG_CANCER\"])[\"LUNG_CANCER\"]\n",
    "\n",
    "# split into train and test\n",
    "train_x, test_x, train_y, test_y = train_test_split(final_df, results)\n",
    "\n",
    "# create models\n",
    "random_forest = RandomForestClassifier(random_state=101, n_estimators=100)\n",
    "naive_bayes = MultinomialNB()\n",
    "svc = SVC()\n",
    "\n",
    "# train and test models\n",
    "for name in MODELS:\n",
    "\n",
    "    # gets model based on what the string is\n",
    "    model  = eval(name)\n",
    "    model.fit(train_x, train_y)\n",
    "\n",
    "    # test model accuracy\n",
    "    predicted_y = model.predict(test_x)\n",
    "    accuracy = accuracy_score(test_y, predicted_y)\n",
    "\n",
    "    print(f\"The accuracy of the {name} model is {round(100 * accuracy, 2)}%.\")"
   ]
  },
  {
   "attachments": {},
   "cell_type": "markdown",
   "metadata": {},
   "source": [
    "## Use the Models"
   ]
  },
  {
   "cell_type": "code",
   "execution_count": 13,
   "metadata": {},
   "outputs": [
    {
     "name": "stdout",
     "output_type": "stream",
     "text": [
      "For the following questions, enter \"1\" if the symptom/cause applies to you, and \"0\" if not. For \"GENDER\", answer 'M' or 'F', and for \"AGE\", enter your age as an integer.\n",
      "The random_forest model predicts that you  have lung cancer\n",
      "The naive_bayes model predicts that you  have lung cancer\n",
      "The svc model predicts that you  have lung cancer\n"
     ]
    }
   ],
   "source": [
    "# gets the input\n",
    "print(\"For the following questions, enter \\\"1\\\" if the symptom/cause applies to you, and \\\"0\\\" if not. For \\\"GENDER\\\", answer 'M' or 'F', and for \\\"AGE\\\", enter your age as an integer.\")\n",
    "\n",
    "# creates dataframe and blank results \n",
    "df = pd.DataFrame({})\n",
    "results = []\n",
    "\n",
    "# creates arrays with the symptoms and causes\n",
    "for thing in SYMPTOMS+CAUSES+DEMOGRAPHICS:\n",
    "    if thing == \"GENDER\":\n",
    "        df[thing] = [gender_mapper(input(thing))]\n",
    "    else:\n",
    "        df[thing] = [input(thing)]\n",
    "\n",
    "# evalulates each model\n",
    "for name in MODELS:\n",
    "    model = eval(name)\n",
    "    print(f\"The {name.upper()} model predicts that you {'do not ' if model.predict(df)[0] == 'NO' else ''}have lung cancer\")\n"
   ]
  }
 ],
 "metadata": {
  "kernelspec": {
   "display_name": "Python 3",
   "language": "python",
   "name": "python3"
  },
  "language_info": {
   "codemirror_mode": {
    "name": "ipython",
    "version": 3
   },
   "file_extension": ".py",
   "mimetype": "text/x-python",
   "name": "python",
   "nbconvert_exporter": "python",
   "pygments_lexer": "ipython3",
   "version": "3.11.3"
  },
  "orig_nbformat": 4,
  "vscode": {
   "interpreter": {
    "hash": "aee8b7b246df8f9039afb4144a1f6fd8d2ca17a180786b69acc140d282b71a49"
   }
  }
 },
 "nbformat": 4,
 "nbformat_minor": 2
}
